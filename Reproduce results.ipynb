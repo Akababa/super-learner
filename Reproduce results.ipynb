{
 "cells": [
  {
   "cell_type": "code",
   "execution_count": 11,
   "metadata": {},
   "outputs": [],
   "source": [
    "from sklearn import datasets, linear_model, neighbors, svm, ensemble\n",
    "from sklearn.model_selection import train_test_split\n",
    "from sklearn.model_selection import KFold\n",
    "from sklearn.metrics import mean_squared_error\n",
    "from base import SuperLearner\n",
    "from base import BMA\n",
    "import pandas as pd\n",
    "import numpy as np\n",
    "# from pyearth import Earth\n",
    "\n",
    "v_folds = 5\n",
    "ols = linear_model.LinearRegression()\n",
    "elnet = linear_model.ElasticNetCV(l1_ratio=0.5, cv=v_folds, normalize=True)\n",
    "ridge = linear_model.RidgeCV(cv=v_folds)\n",
    "lars = linear_model.LarsCV(cv=v_folds, normalize=True)\n",
    "lasso = linear_model.LassoCV(cv=v_folds, normalize=True)\n",
    "nn = neighbors.KNeighborsRegressor(weights='distance')\n",
    "svm1 = svm.SVR(kernel='linear', C=10, gamma='auto')\n",
    "svm2 = svm.SVR(kernel='poly', C=10, gamma='auto')\n",
    "rf = ensemble.RandomForestRegressor(n_estimators=50)\n",
    "model_lib = [ols, rf ,elnet, ridge, lars, lasso, nn, svm1, svm2]\n",
    "model_names = [\"OLS\", \"RF\", \"ElasticNet\", \"Ridge\", \"LARS\", \"LASSO\", \"kNN\", \"SVM rbf\", \"SVM poly\"]\n",
    "meta_learner = ols"
   ]
  },
  {
   "cell_type": "code",
   "execution_count": 12,
   "metadata": {},
   "outputs": [],
   "source": [
    "sup=SuperLearner(cand_learners=[ols,lars,rf],V=10)"
   ]
  },
  {
   "cell_type": "code",
   "execution_count": 13,
   "metadata": {},
   "outputs": [],
   "source": [
    "def sim1(n):\n",
    "    w=np.random.binomial(1,.4,size=(10,n))\n",
    "    eps=np.random.normal(0,1,size=n)\n",
    "    y=2*w[0]*w[9]+4*w[1]*w[6]+3*w[3]*w[4]-\\\n",
    "    5*w[5]*w[9]+3*w[7]*w[8]+w[0]*w[1]*w[3]-\\\n",
    "    2*w[6]*(1-w[5])*w[1]*w[8]-4*(1-w[9])*w[0]*(1-w[3])+eps\n",
    "    return np.transpose(w),y"
   ]
  },
  {
   "cell_type": "code",
   "execution_count": 16,
   "metadata": {},
   "outputs": [
    {
     "data": {
      "text/html": [
       "<div>\n",
       "<style scoped>\n",
       "    .dataframe tbody tr th:only-of-type {\n",
       "        vertical-align: middle;\n",
       "    }\n",
       "\n",
       "    .dataframe tbody tr th {\n",
       "        vertical-align: top;\n",
       "    }\n",
       "\n",
       "    .dataframe thead th {\n",
       "        text-align: right;\n",
       "    }\n",
       "</style>\n",
       "<table border=\"1\" class=\"dataframe\">\n",
       "  <thead>\n",
       "    <tr style=\"text-align: right;\">\n",
       "      <th></th>\n",
       "      <th>name</th>\n",
       "      <th>training mse</th>\n",
       "      <th>testing mse</th>\n",
       "      <th>coef</th>\n",
       "    </tr>\n",
       "  </thead>\n",
       "  <tbody>\n",
       "    <tr>\n",
       "      <th>0</th>\n",
       "      <td>LinearRegression</td>\n",
       "      <td>6.613248</td>\n",
       "      <td>6.177968</td>\n",
       "      <td>0.960733</td>\n",
       "    </tr>\n",
       "    <tr>\n",
       "      <th>1</th>\n",
       "      <td>LarsCV</td>\n",
       "      <td>6.613474</td>\n",
       "      <td>6.177167</td>\n",
       "      <td>-0.894419</td>\n",
       "    </tr>\n",
       "    <tr>\n",
       "      <th>2</th>\n",
       "      <td>RandomForestRegressor</td>\n",
       "      <td>0.499204</td>\n",
       "      <td>1.971300</td>\n",
       "      <td>0.958122</td>\n",
       "    </tr>\n",
       "    <tr>\n",
       "      <th>3</th>\n",
       "      <td>meta</td>\n",
       "      <td>0.534064</td>\n",
       "      <td>1.941747</td>\n",
       "      <td>NaN</td>\n",
       "    </tr>\n",
       "  </tbody>\n",
       "</table>\n",
       "</div>"
      ],
      "text/plain": [
       "                    name  training mse  testing mse      coef\n",
       "0       LinearRegression      6.613248     6.177968  0.960733\n",
       "1                 LarsCV      6.613474     6.177167 -0.894419\n",
       "2  RandomForestRegressor      0.499204     1.971300  0.958122\n",
       "3                   meta      0.534064     1.941747       NaN"
      ]
     },
     "execution_count": 16,
     "metadata": {},
     "output_type": "execute_result"
    }
   ],
   "source": [
    "train1=sim1(500)\n",
    "sup.fit(*train1)\n",
    "test1=sim1(10000)\n",
    "df=sup.debug(*train1,*test1)\n",
    "df"
   ]
  }
 ],
 "metadata": {
  "kernelspec": {
   "display_name": "Python 3",
   "language": "python",
   "name": "python3"
  },
  "language_info": {
   "codemirror_mode": {
    "name": "ipython",
    "version": 3
   },
   "file_extension": ".py",
   "mimetype": "text/x-python",
   "name": "python",
   "nbconvert_exporter": "python",
   "pygments_lexer": "ipython3",
   "version": "3.6.3"
  }
 },
 "nbformat": 4,
 "nbformat_minor": 2
}
